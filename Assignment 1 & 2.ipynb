{
 "cells": [
  {
   "cell_type": "code",
   "execution_count": null,
   "id": "f1b284e7",
   "metadata": {},
   "outputs": [],
   "source": [
    "# Assignment 1\n",
    "\n",
    "## A list is a collection of items, which can be of different datatypes, including other lists.\n",
    "\n",
    "\n",
    "fruits = [\"apple\", \"banana\", \"cherry\"]\n",
    "\n",
    "\n",
    "## A tuple is an ordered, immutable collection of items, which can also be of different datatype\n",
    "\n",
    "person = (\"John Doe\", 30, \"Male\")\n"
   ]
  },
  {
   "cell_type": "code",
   "execution_count": null,
   "id": "1bb4319b",
   "metadata": {},
   "outputs": [],
   "source": [
    "# Assignment 2\n",
    "\n",
    "with open(\"file.txt\", \"a\") as file:\n",
    "    file.write(\"This is appended to the file.\")\n",
    "\n",
    "\n",
    "with open(\"file.txt\", \"r\") as file:\n",
    "    content = file.read()\n",
    "    print(content)\n",
    "\n",
    "with open(\"file.txt\", \"w\") as file:\n",
    "    file.write(\"This is written to the file.\")\n"
   ]
  }
 ],
 "metadata": {
  "kernelspec": {
   "display_name": "Python 3 (ipykernel)",
   "language": "python",
   "name": "python3"
  },
  "language_info": {
   "codemirror_mode": {
    "name": "ipython",
    "version": 3
   },
   "file_extension": ".py",
   "mimetype": "text/x-python",
   "name": "python",
   "nbconvert_exporter": "python",
   "pygments_lexer": "ipython3",
   "version": "3.8.8"
  }
 },
 "nbformat": 4,
 "nbformat_minor": 5
}
